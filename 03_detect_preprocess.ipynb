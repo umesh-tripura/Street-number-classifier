{
 "cells": [
  {
   "cell_type": "code",
   "execution_count": 1,
   "metadata": {},
   "outputs": [],
   "source": [
    "import cv2\n",
    "import glob\n",
    "import natsort\n",
    "import pickle\n",
    "import imutils\n",
    "import numpy as np\n",
    "\n",
    "from utils.hdf5datasetwriter import HDF5DatasetWriter\n",
    "from utils.aspect_aware_resize import AspectAwareResize\n",
    "\n",
    "import matplotlib.pyplot as plt\n",
    "%matplotlib inline"
   ]
  },
  {
   "cell_type": "code",
   "execution_count": 2,
   "metadata": {},
   "outputs": [],
   "source": [
    "image_paths = natsort.natsorted(glob.glob(\"train/*.png\"))\n",
    "metadata = pickle.load(open(\"pkl/metadata.pkl\", \"rb\"))\n",
    "\n",
    "aar = AspectAwareResize(96, 96)"
   ]
  },
  {
   "cell_type": "code",
   "execution_count": 3,
   "metadata": {},
   "outputs": [],
   "source": [
    "def imshow(img):\n",
    "    plt.imshow(cv2.cvtColor(img, cv2.COLOR_BGR2RGB))\n",
    "    plt.show()"
   ]
  },
  {
   "cell_type": "code",
   "execution_count": 4,
   "metadata": {},
   "outputs": [],
   "source": [
    "def make_square(image):\n",
    "    (h, w) = image.shape[:2]\n",
    "    \n",
    "    dH = 0\n",
    "    dW = 0\n",
    "    \n",
    "    if h < w:\n",
    "        dW = (w-h)//2\n",
    "    elif w < h:\n",
    "        dH = (h-w) // 2\n",
    "        \n",
    "    image = image[dH:h-dH, dW:w-dW]\n",
    "        \n",
    "    return image, dH, dW"
   ]
  },
  {
   "cell_type": "code",
   "execution_count": 5,
   "metadata": {},
   "outputs": [],
   "source": [
    "def xywh_bbox(img, metadata):\n",
    "    shape = img.shape[:2]\n",
    "    \n",
    "    x = int(min(metadata[\"left\"]))\n",
    "    y = int(min(metadata[\"top\"]))\n",
    "    w = int(metadata[\"left\"][-1] + metadata[\"width\"][-1])\n",
    "    h = int(max(metadata[\"top\"]) + max(metadata[\"height\"]))\n",
    "    \n",
    "    return x, y, w-x, h-y"
   ]
  },
  {
   "cell_type": "code",
   "execution_count": 6,
   "metadata": {},
   "outputs": [],
   "source": [
    "def aar_xywh(img, metadata, size=96):\n",
    "    height, width = img.shape[:2]\n",
    "    a = height if height < width else width\n",
    "\n",
    "    img, dH, dW = make_square(img)\n",
    "\n",
    "    x, y, w, h = xywh_bbox(img, metadata)\n",
    "\n",
    "    x = x-dW\n",
    "    y = y-dH\n",
    "\n",
    "    x = int(x * (size/a))\n",
    "    y = int(y * (size/a))\n",
    "    w = int(w * (size/a))\n",
    "    h = int(h * (size/a))\n",
    "    return (x, y, w, h)"
   ]
  },
  {
   "cell_type": "code",
   "execution_count": 7,
   "metadata": {},
   "outputs": [
    {
     "data": {
      "image/png": "[encoded data removed]",
      "text/plain": [
       "<Figure size 432x288 with 1 Axes>"
      ]
     },
     "metadata": {},
     "output_type": "display_data"
    }
   ],
   "source": [
    "i = 6000\n",
    "\n",
    "img1_meta = metadata[i]\n",
    "img1 = cv2.imread(image_paths[i])\n",
    "\n",
    "x, y, w, h = aar_xywh(img1, img1_meta)\n",
    "\n",
    "img1 = aar.preprocess(img1)\n",
    "cv2.rectangle(img1, (x, y), (x+w, y+h), (0, 255, 0), 2)\n",
    "\n",
    "imshow(img1)"
   ]
  },
  {
   "cell_type": "code",
   "execution_count": 8,
   "metadata": {},
   "outputs": [],
   "source": [
    "train_path = natsort.natsorted(glob.glob(\"train/*.png\"))[:-2500]\n",
    "train_meta = pickle.load(open(\"pkl/metadata.pkl\", \"rb\"))[:-2500]\n",
    "val_path = natsort.natsorted(glob.glob(\"train/*.png\"))[-2500:]\n",
    "val_meta = pickle.load(open(\"pkl/metadata.pkl\", \"rb\"))[-2500:]\n",
    "extra_path = natsort.natsorted(glob.glob(\"extra/*.png\"))\n",
    "extra_meta = pickle.load(open(\"pkl/metadata_extra.pkl\", \"rb\"))\n",
    "test_path = natsort.natsorted(glob.glob(\"test/*.png\"))\n",
    "test_meta = pickle.load(open(\"pkl/metadata_test.pkl\", \"rb\"))\n",
    "\n",
    "stuffs = [(train_path, train_meta, \"bbox/train.hdf5\"), (val_path, val_meta, \"bbox/val.hdf5\"), \n",
    "          (extra_path, extra_meta, \"bbox/extra.hdf5\"), (test_path, test_meta, \"bbox/test.hdf5\")]\n",
    "\n",
    "for (paths, metas, outputs) in stuffs:\n",
    "    writer = HDF5DatasetWriter((len(paths), 96, 96, 3), outputs)\n",
    "    for path, meta in zip(paths, metas):\n",
    "        img = cv2.imread(path)\n",
    "        label = aar_xywh(img, meta)\n",
    "        img = aar.preprocess(img)\n",
    "        writer.add([img], [label])\n",
    "    writer.close()"
   ]
  }
 ],
 "metadata": {
  "kernelspec": {
   "display_name": "Python 3",
   "language": "python",
   "name": "python3"
  },
  "language_info": {
   "codemirror_mode": {
    "name": "ipython",
    "version": 3
   },
   "file_extension": ".py",
   "mimetype": "text/x-python",
   "name": "python",
   "nbconvert_exporter": "python",
   "pygments_lexer": "ipython3",
   "version": "3.6.6"
  }
 },
 "nbformat": 4,
 "nbformat_minor": 2
}
